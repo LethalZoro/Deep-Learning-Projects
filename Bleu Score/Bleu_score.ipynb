{
 "cells": [
  {
   "cell_type": "code",
   "execution_count": 25,
   "id": "cd83c463-3e6e-4033-bd59-7ab400b63bae",
   "metadata": {
    "tags": []
   },
   "outputs": [],
   "source": [
    "import numpy as np\n",
    "from torchmetrics.text import BLEUScore\n",
    "from rouge import Rouge"
   ]
  },
  {
   "cell_type": "code",
   "execution_count": 38,
   "id": "66dc0fba-388a-45fb-b20c-63b83d458311",
   "metadata": {
    "tags": []
   },
   "outputs": [],
   "source": [
    "def Evaluate_text(pred,target_ref):\n",
    "    bleu = BLEUScore()\n",
    "    rouge = Rouge()\n",
    "    str_pred = ' '.join(map(str, pred))\n",
    "    str_target = ' '.join(map(str, target_ref))\n",
    "    rouge_score = rouge.get_scores(str_pred, str_target)\n",
    "    bleu_score=bleu(pred, target_ref)\n",
    "    print(\"Bleu score : \",bleu_score)\n",
    "    print(\"Rouge score : \")\n",
    "    print(rouge_score)\n",
    "    return bleu_score,rouge_score"
   ]
  },
  {
   "cell_type": "code",
   "execution_count": 40,
   "id": "fca7144b-3530-466d-bb1b-84b530112f90",
   "metadata": {
    "tags": []
   },
   "outputs": [
    {
     "name": "stdout",
     "output_type": "stream",
     "text": [
      "Bleu score :  tensor(0.7598)\n",
      "Rouge score : \n",
      "[{'rouge-1': {'r': 0.4444444444444444, 'p': 0.8, 'f': 0.5714285668367348}, 'rouge-2': {'r': 0.2727272727272727, 'p': 0.6, 'f': 0.374999995703125}, 'rouge-l': {'r': 0.4444444444444444, 'p': 0.8, 'f': 0.5714285668367348}}]\n",
      "(tensor(0.7598), [{'rouge-1': {'r': 0.4444444444444444, 'p': 0.8, 'f': 0.5714285668367348}, 'rouge-2': {'r': 0.2727272727272727, 'p': 0.6, 'f': 0.374999995703125}, 'rouge-l': {'r': 0.4444444444444444, 'p': 0.8, 'f': 0.5714285668367348}}])\n"
     ]
    }
   ],
   "source": [
    "preds = ['the cat is on the mat']\n",
    "target = [['there is a cat on the mat', 'a cat is on the mat']]\n",
    "Evaluate_text(preds,target)\n"
   ]
  },
  {
   "cell_type": "code",
   "execution_count": null,
   "id": "b4172748-c921-4b5a-8ff4-52f51bfbfe54",
   "metadata": {},
   "outputs": [],
   "source": []
  }
 ],
 "metadata": {
  "kernelspec": {
   "display_name": "Python (torch)",
   "language": "python",
   "name": "torch"
  },
  "language_info": {
   "codemirror_mode": {
    "name": "ipython",
    "version": 3
   },
   "file_extension": ".py",
   "mimetype": "text/x-python",
   "name": "python",
   "nbconvert_exporter": "python",
   "pygments_lexer": "ipython3",
   "version": "3.11.4"
  }
 },
 "nbformat": 4,
 "nbformat_minor": 5
}
